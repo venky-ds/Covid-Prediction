{
  "nbformat": 4,
  "nbformat_minor": 0,
  "metadata": {
    "colab": {
      "name": "Covid_Prediction.ipynb",
      "provenance": [],
      "collapsed_sections": []
    },
    "kernelspec": {
      "display_name": "Python 3",
      "name": "python3"
    },
    "language_info": {
      "name": "python"
    }
  },
  "cells": [
    {
      "cell_type": "markdown",
      "metadata": {
        "id": "f3EpMmZRP8js"
      },
      "source": [
        "**PREDICTING COVID CASES USING TIME SERIES ANALYSIS**\n",
        "\n",
        "\n",
        "\n",
        "\n",
        "1. C Venkatesh\n",
        "\n",
        "\n",
        "\n"
      ]
    },
    {
      "cell_type": "markdown",
      "metadata": {
        "id": "ItmtBkk9QUO3"
      },
      "source": [
        "**Dataset from 30-01-2020 to 24-06-2021**\n",
        "\n",
        "Features- Date, Confirmed, Deaths,Cured"
      ]
    },
    {
      "cell_type": "code",
      "metadata": {
        "colab": {
          "resources": {
            "http://localhost:8080/nbextensions/google.colab/files.js": {
              "data": "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",
              "ok": true,
              "headers": [
                [
                  "content-type",
                  "application/javascript"
                ]
              ],
              "status": 200,
              "status_text": ""
            }
          },
          "base_uri": "https://localhost:8080/",
          "height": 73
        },
        "id": "pfEvisGAkgAt",
        "outputId": "914b4f37-904b-4890-9a67-b4955af59c4c"
      },
      "source": [
        "from google.colab import files\n",
        "uploaded = files.upload()"
      ],
      "execution_count": null,
      "outputs": [
        {
          "output_type": "display_data",
          "data": {
            "text/html": [
              "\n",
              "     <input type=\"file\" id=\"files-d2cab2ef-202c-457c-9aab-09f1aaa98a13\" name=\"files[]\" multiple disabled\n",
              "        style=\"border:none\" />\n",
              "     <output id=\"result-d2cab2ef-202c-457c-9aab-09f1aaa98a13\">\n",
              "      Upload widget is only available when the cell has been executed in the\n",
              "      current browser session. Please rerun this cell to enable.\n",
              "      </output>\n",
              "      <script src=\"/nbextensions/google.colab/files.js\"></script> "
            ],
            "text/plain": [
              "<IPython.core.display.HTML object>"
            ]
          },
          "metadata": {
            "tags": []
          }
        },
        {
          "output_type": "stream",
          "text": [
            "Saving covid_19_india.csv to covid_19_india (1).csv\n"
          ],
          "name": "stdout"
        }
      ]
    },
    {
      "cell_type": "code",
      "metadata": {
        "id": "H_g32BNrr7Vk"
      },
      "source": [
        "#Importing necessary required header files\n",
        "import pandas as pd\n",
        "import plotly.express as px\n",
        "import plotly.figure_factory as ff\n",
        "import numpy as np\n",
        "from matplotlib import pyplot as plt"
      ],
      "execution_count": null,
      "outputs": []
    },
    {
      "cell_type": "code",
      "metadata": {
        "colab": {
          "base_uri": "https://localhost:8080/",
          "height": 203
        },
        "id": "lI7USBuNsHMt",
        "outputId": "ed9cd171-401f-4f00-82fc-43514a143ec4"
      },
      "source": [
        "import io\n",
        "covid_india = pd.read_csv(io.BytesIO(uploaded['covid_19_india.csv']))\n",
        "covid_india.head()"
      ],
      "execution_count": null,
      "outputs": [
        {
          "output_type": "execute_result",
          "data": {
            "text/html": [
              "<div>\n",
              "<style scoped>\n",
              "    .dataframe tbody tr th:only-of-type {\n",
              "        vertical-align: middle;\n",
              "    }\n",
              "\n",
              "    .dataframe tbody tr th {\n",
              "        vertical-align: top;\n",
              "    }\n",
              "\n",
              "    .dataframe thead th {\n",
              "        text-align: right;\n",
              "    }\n",
              "</style>\n",
              "<table border=\"1\" class=\"dataframe\">\n",
              "  <thead>\n",
              "    <tr style=\"text-align: right;\">\n",
              "      <th></th>\n",
              "      <th>Sno</th>\n",
              "      <th>Date</th>\n",
              "      <th>Time</th>\n",
              "      <th>State/UnionTerritory</th>\n",
              "      <th>ConfirmedIndianNational</th>\n",
              "      <th>ConfirmedForeignNational</th>\n",
              "      <th>Cured</th>\n",
              "      <th>Deaths</th>\n",
              "      <th>Confirmed</th>\n",
              "    </tr>\n",
              "  </thead>\n",
              "  <tbody>\n",
              "    <tr>\n",
              "      <th>0</th>\n",
              "      <td>1</td>\n",
              "      <td>2020-01-30</td>\n",
              "      <td>6:00 PM</td>\n",
              "      <td>Kerala</td>\n",
              "      <td>1</td>\n",
              "      <td>0</td>\n",
              "      <td>0</td>\n",
              "      <td>0</td>\n",
              "      <td>1</td>\n",
              "    </tr>\n",
              "    <tr>\n",
              "      <th>1</th>\n",
              "      <td>2</td>\n",
              "      <td>2020-01-31</td>\n",
              "      <td>6:00 PM</td>\n",
              "      <td>Kerala</td>\n",
              "      <td>1</td>\n",
              "      <td>0</td>\n",
              "      <td>0</td>\n",
              "      <td>0</td>\n",
              "      <td>1</td>\n",
              "    </tr>\n",
              "    <tr>\n",
              "      <th>2</th>\n",
              "      <td>3</td>\n",
              "      <td>2020-02-01</td>\n",
              "      <td>6:00 PM</td>\n",
              "      <td>Kerala</td>\n",
              "      <td>2</td>\n",
              "      <td>0</td>\n",
              "      <td>0</td>\n",
              "      <td>0</td>\n",
              "      <td>2</td>\n",
              "    </tr>\n",
              "    <tr>\n",
              "      <th>3</th>\n",
              "      <td>4</td>\n",
              "      <td>2020-02-02</td>\n",
              "      <td>6:00 PM</td>\n",
              "      <td>Kerala</td>\n",
              "      <td>3</td>\n",
              "      <td>0</td>\n",
              "      <td>0</td>\n",
              "      <td>0</td>\n",
              "      <td>3</td>\n",
              "    </tr>\n",
              "    <tr>\n",
              "      <th>4</th>\n",
              "      <td>5</td>\n",
              "      <td>2020-02-03</td>\n",
              "      <td>6:00 PM</td>\n",
              "      <td>Kerala</td>\n",
              "      <td>3</td>\n",
              "      <td>0</td>\n",
              "      <td>0</td>\n",
              "      <td>0</td>\n",
              "      <td>3</td>\n",
              "    </tr>\n",
              "  </tbody>\n",
              "</table>\n",
              "</div>"
            ],
            "text/plain": [
              "   Sno        Date     Time  ... Cured Deaths Confirmed\n",
              "0    1  2020-01-30  6:00 PM  ...     0      0         1\n",
              "1    2  2020-01-31  6:00 PM  ...     0      0         1\n",
              "2    3  2020-02-01  6:00 PM  ...     0      0         2\n",
              "3    4  2020-02-02  6:00 PM  ...     0      0         3\n",
              "4    5  2020-02-03  6:00 PM  ...     0      0         3\n",
              "\n",
              "[5 rows x 9 columns]"
            ]
          },
          "metadata": {
            "tags": []
          },
          "execution_count": 4
        }
      ]
    },
    {
      "cell_type": "code",
      "metadata": {
        "colab": {
          "base_uri": "https://localhost:8080/",
          "height": 203
        },
        "id": "9PL8B2oftJW0",
        "outputId": "e01fbd46-e887-4a80-db77-1855ef6cb6c1"
      },
      "source": [
        "#Filtering Tamilnadu alone\n",
        "data_tn = covid_india[covid_india[\"State/UnionTerritory\"]==\"Tamil Nadu\"]\n",
        "df_tn=data_tn[[\"Date\",\"Confirmed\",\"Cured\",\"Deaths\"]]\n",
        "df_tn.tail()"
      ],
      "execution_count": null,
      "outputs": [
        {
          "output_type": "execute_result",
          "data": {
            "text/html": [
              "<div>\n",
              "<style scoped>\n",
              "    .dataframe tbody tr th:only-of-type {\n",
              "        vertical-align: middle;\n",
              "    }\n",
              "\n",
              "    .dataframe tbody tr th {\n",
              "        vertical-align: top;\n",
              "    }\n",
              "\n",
              "    .dataframe thead th {\n",
              "        text-align: right;\n",
              "    }\n",
              "</style>\n",
              "<table border=\"1\" class=\"dataframe\">\n",
              "  <thead>\n",
              "    <tr style=\"text-align: right;\">\n",
              "      <th></th>\n",
              "      <th>Date</th>\n",
              "      <th>Confirmed</th>\n",
              "      <th>Cured</th>\n",
              "      <th>Deaths</th>\n",
              "    </tr>\n",
              "  </thead>\n",
              "  <tbody>\n",
              "    <tr>\n",
              "      <th>16232</th>\n",
              "      <td>2021-06-20</td>\n",
              "      <td>2414680</td>\n",
              "      <td>2304885</td>\n",
              "      <td>31015</td>\n",
              "    </tr>\n",
              "    <tr>\n",
              "      <th>16268</th>\n",
              "      <td>2021-06-21</td>\n",
              "      <td>2422497</td>\n",
              "      <td>2321928</td>\n",
              "      <td>31197</td>\n",
              "    </tr>\n",
              "    <tr>\n",
              "      <th>16304</th>\n",
              "      <td>2021-06-22</td>\n",
              "      <td>2429924</td>\n",
              "      <td>2337209</td>\n",
              "      <td>31386</td>\n",
              "    </tr>\n",
              "    <tr>\n",
              "      <th>16340</th>\n",
              "      <td>2021-06-23</td>\n",
              "      <td>2436819</td>\n",
              "      <td>2348353</td>\n",
              "      <td>31580</td>\n",
              "    </tr>\n",
              "    <tr>\n",
              "      <th>16376</th>\n",
              "      <td>2021-06-24</td>\n",
              "      <td>2443415</td>\n",
              "      <td>2358785</td>\n",
              "      <td>31746</td>\n",
              "    </tr>\n",
              "  </tbody>\n",
              "</table>\n",
              "</div>"
            ],
            "text/plain": [
              "             Date  Confirmed    Cured  Deaths\n",
              "16232  2021-06-20    2414680  2304885   31015\n",
              "16268  2021-06-21    2422497  2321928   31197\n",
              "16304  2021-06-22    2429924  2337209   31386\n",
              "16340  2021-06-23    2436819  2348353   31580\n",
              "16376  2021-06-24    2443415  2358785   31746"
            ]
          },
          "metadata": {
            "tags": []
          },
          "execution_count": 5
        }
      ]
    },
    {
      "cell_type": "code",
      "metadata": {
        "colab": {
          "base_uri": "https://localhost:8080/",
          "height": 295
        },
        "id": "P6_hw_7luejN",
        "outputId": "e4081b8b-5521-4979-9ba0-97c84a89272a"
      },
      "source": [
        "df_tn.describe()"
      ],
      "execution_count": null,
      "outputs": [
        {
          "output_type": "execute_result",
          "data": {
            "text/html": [
              "<div>\n",
              "<style scoped>\n",
              "    .dataframe tbody tr th:only-of-type {\n",
              "        vertical-align: middle;\n",
              "    }\n",
              "\n",
              "    .dataframe tbody tr th {\n",
              "        vertical-align: top;\n",
              "    }\n",
              "\n",
              "    .dataframe thead th {\n",
              "        text-align: right;\n",
              "    }\n",
              "</style>\n",
              "<table border=\"1\" class=\"dataframe\">\n",
              "  <thead>\n",
              "    <tr style=\"text-align: right;\">\n",
              "      <th></th>\n",
              "      <th>Confirmed</th>\n",
              "      <th>Cured</th>\n",
              "      <th>Deaths</th>\n",
              "    </tr>\n",
              "  </thead>\n",
              "  <tbody>\n",
              "    <tr>\n",
              "      <th>count</th>\n",
              "      <td>4.750000e+02</td>\n",
              "      <td>4.750000e+02</td>\n",
              "      <td>475.000000</td>\n",
              "    </tr>\n",
              "    <tr>\n",
              "      <th>mean</th>\n",
              "      <td>6.539112e+05</td>\n",
              "      <td>6.016578e+05</td>\n",
              "      <td>9069.484211</td>\n",
              "    </tr>\n",
              "    <tr>\n",
              "      <th>std</th>\n",
              "      <td>5.848598e+05</td>\n",
              "      <td>5.354211e+05</td>\n",
              "      <td>7272.455041</td>\n",
              "    </tr>\n",
              "    <tr>\n",
              "      <th>min</th>\n",
              "      <td>1.000000e+00</td>\n",
              "      <td>0.000000e+00</td>\n",
              "      <td>0.000000</td>\n",
              "    </tr>\n",
              "    <tr>\n",
              "      <th>25%</th>\n",
              "      <td>1.005565e+05</td>\n",
              "      <td>5.719950e+04</td>\n",
              "      <td>1353.000000</td>\n",
              "    </tr>\n",
              "    <tr>\n",
              "      <th>50%</th>\n",
              "      <td>7.194030e+05</td>\n",
              "      <td>6.834640e+05</td>\n",
              "      <td>11053.000000</td>\n",
              "    </tr>\n",
              "    <tr>\n",
              "      <th>75%</th>\n",
              "      <td>8.498625e+05</td>\n",
              "      <td>8.333245e+05</td>\n",
              "      <td>12480.500000</td>\n",
              "    </tr>\n",
              "    <tr>\n",
              "      <th>max</th>\n",
              "      <td>2.443415e+06</td>\n",
              "      <td>2.358785e+06</td>\n",
              "      <td>31746.000000</td>\n",
              "    </tr>\n",
              "  </tbody>\n",
              "</table>\n",
              "</div>"
            ],
            "text/plain": [
              "          Confirmed         Cured        Deaths\n",
              "count  4.750000e+02  4.750000e+02    475.000000\n",
              "mean   6.539112e+05  6.016578e+05   9069.484211\n",
              "std    5.848598e+05  5.354211e+05   7272.455041\n",
              "min    1.000000e+00  0.000000e+00      0.000000\n",
              "25%    1.005565e+05  5.719950e+04   1353.000000\n",
              "50%    7.194030e+05  6.834640e+05  11053.000000\n",
              "75%    8.498625e+05  8.333245e+05  12480.500000\n",
              "max    2.443415e+06  2.358785e+06  31746.000000"
            ]
          },
          "metadata": {
            "tags": []
          },
          "execution_count": 6
        }
      ]
    },
    {
      "cell_type": "code",
      "metadata": {
        "colab": {
          "base_uri": "https://localhost:8080/",
          "height": 300
        },
        "id": "CtGvvuuX2Gu4",
        "outputId": "313483a5-8bf2-4e61-c2e6-a11cc80768ac"
      },
      "source": [
        "# Setting the Date as Index\n",
        "train1 = df_tn[[\"Date\",\"Confirmed\"]].set_index('Date')\n",
        "train1.sort_index(inplace=True)\n",
        "plt.plot(train1)\n",
        "plt.xlabel('Date', fontsize=12)\n",
        "plt.ylabel('Confirmed', fontsize=12)\n",
        "plt.title(\"Cases in TN\", fontsize=15)\n",
        "plt.savefig('death.jpeg', dpi=300, bbox_inches='tight')\n",
        "plt.show()"
      ],
      "execution_count": null,
      "outputs": [
        {
          "output_type": "display_data",
          "data": {
            "image/png": "[encoded data removed]",
            "text/plain": [
              "<Figure size 432x288 with 1 Axes>"
            ]
          },
          "metadata": {
            "tags": [],
            "needs_background": "light"
          }
        }
      ]
    },
    {
      "cell_type": "code",
      "metadata": {
        "colab": {
          "base_uri": "https://localhost:8080/",
          "height": 300
        },
        "id": "FXfqJxBNylAX",
        "outputId": "8adb931a-94b1-4302-8d33-e41539f88cad"
      },
      "source": [
        "# Setting the Date as Index\n",
        "train2 = df_tn[[\"Date\",\"Deaths\"]].set_index('Date')\n",
        "train2.sort_index(inplace=True)\n",
        "plt.plot(train2)\n",
        "plt.xlabel('Date', fontsize=12)\n",
        "plt.ylabel('Deaths', fontsize=12)\n",
        "plt.title(\"Death in TN\", fontsize=15)\n",
        "plt.show()\n"
      ],
      "execution_count": null,
      "outputs": [
        {
          "output_type": "display_data",
          "data": {
            "image/png": "[encoded data removed]",
            "text/plain": [
              "<Figure size 432x288 with 1 Axes>"
            ]
          },
          "metadata": {
            "tags": [],
            "needs_background": "light"
          }
        }
      ]
    },
    {
      "cell_type": "code",
      "metadata": {
        "colab": {
          "base_uri": "https://localhost:8080/",
          "height": 300
        },
        "id": "-PggF4v2OQJ6",
        "outputId": "06ac569b-3d51-4b6c-e57d-54bbee708ce7"
      },
      "source": [
        "# Setting the Date as Index\n",
        "train2 = df_tn[[\"Date\",\"Cured\"]].set_index('Date')\n",
        "train2.sort_index(inplace=True)\n",
        "plt.plot(train2)\n",
        "plt.xlabel('Date', fontsize=12)\n",
        "plt.ylabel('Cured', fontsize=12)\n",
        "plt.title(\"Recovery in TN\", fontsize=15)\n",
        "plt.show()"
      ],
      "execution_count": null,
      "outputs": [
        {
          "output_type": "display_data",
          "data": {
            "image/png": "[encoded data removed]",
            "text/plain": [
              "<Figure size 432x288 with 1 Axes>"
            ]
          },
          "metadata": {
            "tags": [],
            "needs_background": "light"
          }
        }
      ]
    },
    {
      "cell_type": "code",
      "metadata": {
        "colab": {
          "base_uri": "https://localhost:8080/",
          "height": 466
        },
        "id": "1PriKEqDe0M7",
        "outputId": "c91508df-1d3b-468f-e2b2-81efde393902"
      },
      "source": [
        "from statsmodels.tsa.stattools import adfuller\n",
        "import matplotlib.pyplot as plot\n",
        "def test_stationarity(x):\n",
        "    #Determing rolling statistics\n",
        "    rolmean = x.rolling(window=22,center=False).mean()\n",
        "    rolstd = x.rolling(window=12,center=False).std()\n",
        "    \n",
        "    #Plot rolling statistics:\n",
        "    orig = plot.plot(x, color='blue',label='Original')\n",
        "    mean = plot.plot(rolmean, color='red', label='Rolling Mean')\n",
        "    std = plot.plot(rolstd, color='black', label = 'Rolling Std')\n",
        "    plot.legend(loc='best')\n",
        "    plot.title('Rolling Mean & Standard Deviation')\n",
        "    plot.show(block=False)\n",
        "    \n",
        "    #Perform Dickey Fuller test    \n",
        "    result=adfuller(x)\n",
        "    print('ADF Stastistic: %f'%result[0])\n",
        "    print('p-value: %f'%result[1])\n",
        "    pvalue=result[1]\n",
        "    for key,value in result[4].items():\n",
        "         if result[0]>value:\n",
        "            print(\"The graph is non stationery\")\n",
        "            break\n",
        "         else:\n",
        "            print(\"The graph is stationery\")\n",
        "            break;\n",
        "    print('Critical values:')\n",
        "    for key,value in result[4].items():\n",
        "        print('\\t%s: %.3f ' % (key, value))\n",
        "        \n",
        "ts = train1['Confirmed']      \n",
        "test_stationarity(ts)"
      ],
      "execution_count": null,
      "outputs": [
        {
          "output_type": "stream",
          "text": [
            "/usr/local/lib/python3.7/dist-packages/statsmodels/tools/_testing.py:19: FutureWarning:\n",
            "\n",
            "pandas.util.testing is deprecated. Use the functions in the public API at pandas.testing instead.\n",
            "\n"
          ],
          "name": "stderr"
        },
        {
          "output_type": "display_data",
          "data": {
            "image/png": "[encoded data removed]",
            "text/plain": [
              "<Figure size 432x288 with 1 Axes>"
            ]
          },
          "metadata": {
            "tags": [],
            "needs_background": "light"
          }
        },
        {
          "output_type": "stream",
          "text": [
            "ADF Stastistic: 1.460645\n",
            "p-value: 0.997373\n",
            "The graph is non stationery\n",
            "Critical values:\n",
            "\t1%: -3.445 \n",
            "\t5%: -2.868 \n",
            "\t10%: -2.570 \n"
          ],
          "name": "stdout"
        }
      ]
    },
    {
      "cell_type": "code",
      "metadata": {
        "colab": {
          "base_uri": "https://localhost:8080/",
          "height": 646
        },
        "id": "PTO9VspWv_B8",
        "outputId": "675d83a3-ea54-46d7-9867-2a03aee2a8eb"
      },
      "source": [
        "ts_log = np.log(ts)\n",
        "plot.plot(ts_log,color=\"green\")\n",
        "plot.show()\n",
        "test_stationarity(ts_log)"
      ],
      "execution_count": null,
      "outputs": [
        {
          "output_type": "display_data",
          "data": {
            "image/png": "[encoded data removed]",
            "text/plain": [
              "<Figure size 432x288 with 1 Axes>"
            ]
          },
          "metadata": {
            "tags": [],
            "needs_background": "light"
          }
        },
        {
          "output_type": "display_data",
          "data": {
            "image/png": "[encoded data removed]",
            "text/plain": [
              "<Figure size 432x288 with 1 Axes>"
            ]
          },
          "metadata": {
            "tags": [],
            "needs_background": "light"
          }
        },
        {
          "output_type": "stream",
          "text": [
            "ADF Stastistic: -6.691249\n",
            "p-value: 0.000000\n",
            "The graph is stationery\n",
            "Critical values:\n",
            "\t1%: -3.445 \n",
            "\t5%: -2.868 \n",
            "\t10%: -2.570 \n"
          ],
          "name": "stdout"
        }
      ]
    },
    {
      "cell_type": "code",
      "metadata": {
        "id": "V96rL-ITxpcP",
        "colab": {
          "base_uri": "https://localhost:8080/",
          "height": 650
        },
        "outputId": "6a2015b9-4889-42de-f962-f9ee8a730220"
      },
      "source": [
        "ts_log_diff = ts_log - ts_log.shift()\n",
        "plot.plot(ts_log_diff)\n",
        "plot.show()\n",
        "ts_log_diff.dropna(inplace=True)\n",
        "test_stationarity(ts_log_diff)"
      ],
      "execution_count": null,
      "outputs": [
        {
          "output_type": "display_data",
          "data": {
            "image/png": "[encoded data removed]",
            "text/plain": [
              "<Figure size 432x288 with 1 Axes>"
            ]
          },
          "metadata": {
            "tags": [],
            "needs_background": "light"
          }
        },
        {
          "output_type": "display_data",
          "data": {
            "image/png": "[encoded data removed]",
            "text/plain": [
              "<Figure size 432x288 with 1 Axes>"
            ]
          },
          "metadata": {
            "tags": [],
            "needs_background": "light"
          }
        },
        {
          "output_type": "stream",
          "text": [
            "ADF Stastistic: -8.917918\n",
            "p-value: 0.000000\n",
            "The graph is stationery\n",
            "Critical values:\n",
            "\t1%: -3.445 \n",
            "\t5%: -2.868 \n",
            "\t10%: -2.570 \n"
          ],
          "name": "stdout"
        }
      ]
    },
    {
      "cell_type": "code",
      "metadata": {
        "colab": {
          "base_uri": "https://localhost:8080/",
          "height": 281
        },
        "id": "BTE58N-QCDYK",
        "outputId": "9c5a904f-7ab4-4a50-96ae-eefd68deb6ab"
      },
      "source": [
        "from statsmodels.graphics.tsaplots import plot_acf\n",
        "plot_acf(ts)\n",
        "plt.show()"
      ],
      "execution_count": null,
      "outputs": [
        {
          "output_type": "display_data",
          "data": {
            "image/png": "[encoded data removed]",
            "text/plain": [
              "<Figure size 432x288 with 1 Axes>"
            ]
          },
          "metadata": {
            "tags": [],
            "needs_background": "light"
          }
        }
      ]
    },
    {
      "cell_type": "code",
      "metadata": {
        "colab": {
          "base_uri": "https://localhost:8080/",
          "height": 281
        },
        "id": "iXUvF96RCDTr",
        "outputId": "17f4ed1c-97ce-4dbd-de0b-ab0610311a43"
      },
      "source": [
        "plot_acf(ts_log)\n",
        "plt.show()"
      ],
      "execution_count": null,
      "outputs": [
        {
          "output_type": "display_data",
          "data": {
            "image/png": "[encoded data removed]",
            "text/plain": [
              "<Figure size 432x288 with 1 Axes>"
            ]
          },
          "metadata": {
            "tags": [],
            "needs_background": "light"
          }
        }
      ]
    },
    {
      "cell_type": "code",
      "metadata": {
        "colab": {
          "base_uri": "https://localhost:8080/",
          "height": 281
        },
        "id": "hvLg55RVCDO5",
        "outputId": "821d3c5a-a5b3-4699-dc00-1447a0c7a705"
      },
      "source": [
        "plot_acf(ts_log_diff)\n",
        "plt.show()"
      ],
      "execution_count": null,
      "outputs": [
        {
          "output_type": "display_data",
          "data": {
            "image/png": "[encoded data removed]",
            "text/plain": [
              "<Figure size 432x288 with 1 Axes>"
            ]
          },
          "metadata": {
            "tags": [],
            "needs_background": "light"
          }
        }
      ]
    },
    {
      "cell_type": "markdown",
      "metadata": {
        "id": "ObXGSNRRUkjk"
      },
      "source": [
        "** ARIMA MODEL **\n"
      ]
    },
    {
      "cell_type": "code",
      "metadata": {
        "colab": {
          "base_uri": "https://localhost:8080/",
          "height": 1000
        },
        "id": "WlCdfAkpslfn",
        "outputId": "ca61b0c1-c51e-40ed-cb4c-372e09814d1f"
      },
      "source": [
        "#ARIMA\n",
        "# evaluate an ARIMA model using a walk-forward validation\n",
        "from pandas import read_csv\n",
        "from pandas import datetime\n",
        "from matplotlib import pyplot\n",
        "from statsmodels.tsa.arima_model import ARIMA\n",
        "from sklearn.metrics import mean_squared_error\n",
        "from math import sqrt\n",
        "\n",
        "\n",
        "series=ts\n",
        "# split into train and test sets\n",
        "X = series.values\n",
        "Y=series.index\n",
        "size = int(len(X) * 0.90)\n",
        "train, test = X[0:size], X[size:len(X)]\n",
        "test_date=Y[size:len(X)]\n",
        "history = [x for x in train]\n",
        "predictions = list()\n",
        "# walk-forward validation\n",
        "for t in range(len(test)):\n",
        "\tmodel = ARIMA(history, order=(4,2,1))\n",
        "\tmodel_fit = model.fit()\n",
        "\toutput = model_fit.forecast()\n",
        "\tyhat = output[0]\n",
        "\tpredictions.append(yhat)\n",
        "\tobs = test[t]\n",
        "\thistory.append(obs)\n",
        "\tprint('Date=%s,predicted=%f, expected=%f' % (test_date[t],yhat, obs))\n",
        "# evaluate forecasts\n",
        "rmse = sqrt(mean_squared_error(test, predictions))\n",
        "print('Test RMSE: %.3f' % rmse)\n",
        "# plot forecasts against actual outcomes\n",
        "pyplot.plot(test,color='blue')\n",
        "pyplot.plot(predictions, color='red')\n",
        "pyplot.show()"
      ],
      "execution_count": null,
      "outputs": [
        {
          "output_type": "stream",
          "text": [
            "/usr/local/lib/python3.7/dist-packages/ipykernel_launcher.py:4: FutureWarning:\n",
            "\n",
            "The pandas.datetime class is deprecated and will be removed from pandas in a future version. Import from datetime module instead.\n",
            "\n"
          ],
          "name": "stderr"
        },
        {
          "output_type": "stream",
          "text": [
            "Date=2021-05-08,predicted=1323069.713316, expected=1323965.000000\n",
            "Date=2021-05-09,predicted=1351374.184622, expected=1351362.000000\n",
            "Date=2021-05-10,predicted=1379678.602706, expected=1380259.000000\n",
            "Date=2021-05-11,predicted=1410407.735633, expected=1409237.000000\n",
            "Date=2021-05-12,predicted=1439027.164146, expected=1438509.000000\n",
            "Date=2021-05-13,predicted=1468714.578516, expected=1468864.000000\n",
            "Date=2021-05-14,predicted=1500291.776160, expected=1499485.000000\n",
            "Date=2021-05-15,predicted=1530767.759758, expected=1531377.000000\n",
            "Date=2021-05-16,predicted=1564259.054958, expected=1565035.000000\n",
            "Date=2021-05-17,predicted=1599705.036096, expected=1598216.000000\n",
            "Date=2021-05-18,predicted=1631891.554178, expected=1631291.000000\n",
            "Date=2021-05-19,predicted=1665266.965229, expected=1664350.000000\n",
            "Date=2021-05-20,predicted=1697987.640843, expected=1699225.000000\n",
            "Date=2021-05-21,predicted=1735124.442154, expected=1734804.000000\n",
            "Date=2021-05-22,predicted=1770865.356395, expected=1770988.000000\n",
            "Date=2021-05-23,predicted=1807746.188307, expected=1806861.000000\n",
            "Date=2021-05-24,predicted=1843205.095616, expected=1842344.000000\n",
            "Date=2021-05-25,predicted=1878291.128116, expected=1877211.000000\n",
            "Date=2021-05-26,predicted=1912374.306906, expected=1911496.000000\n",
            "Date=2021-05-27,predicted=1945864.233209, expected=1945260.000000\n",
            "Date=2021-05-28,predicted=1978951.823269, expected=1978621.000000\n",
            "Date=2021-05-29,predicted=2011813.696367, expected=2009700.000000\n",
            "Date=2021-05-30,predicted=2039802.664272, expected=2039716.000000\n",
            "Date=2021-05-31,predicted=2069126.810211, expected=2068580.000000\n",
            "Date=2021-06-01,predicted=2096653.882522, expected=2096516.000000\n",
            "Date=2021-06-02,predicted=2123510.777249, expected=2123029.000000\n",
            "Date=2021-06-03,predicted=2148420.990713, expected=2148346.000000\n",
            "Date=2021-06-04,predicted=2172613.379174, expected=2172751.000000\n",
            "Date=2021-06-05,predicted=2196222.002533, expected=2195402.000000\n",
            "Date=2021-06-06,predicted=2216759.792151, expected=2216812.000000\n",
            "Date=2021-06-07,predicted=2237097.130494, expected=2237233.000000\n",
            "Date=2021-06-08,predicted=2256620.644768, expected=2256681.000000\n",
            "Date=2021-06-09,predicted=2275043.019947, expected=2274704.000000\n",
            "Date=2021-06-10,predicted=2291516.923830, expected=2292025.000000\n",
            "Date=2021-06-11,predicted=2308443.550980, expected=2308838.000000\n",
            "Date=2021-06-12,predicted=2324856.214302, expected=2324597.000000\n",
            "Date=2021-06-13,predicted=2339383.633143, expected=2339705.000000\n",
            "Date=2021-06-14,predicted=2354081.574917, expected=2353721.000000\n",
            "Date=2021-06-15,predicted=2366894.739378, expected=2366493.000000\n",
            "Date=2021-06-16,predicted=2378336.155781, expected=2378298.000000\n",
            "Date=2021-06-17,predicted=2389260.138563, expected=2388746.000000\n",
            "Date=2021-06-18,predicted=2398151.811347, expected=2397864.000000\n",
            "Date=2021-06-19,predicted=2405897.724205, expected=2406497.000000\n",
            "Date=2021-06-20,predicted=2414324.525393, expected=2414680.000000\n",
            "Date=2021-06-21,predicted=2422060.942837, expected=2422497.000000\n",
            "Date=2021-06-22,predicted=2429619.478842, expected=2429924.000000\n",
            "Date=2021-06-23,predicted=2436786.301434, expected=2436819.000000\n",
            "Date=2021-06-24,predicted=2443182.385240, expected=2443415.000000\n",
            "Test RMSE: 666.758\n"
          ],
          "name": "stdout"
        },
        {
          "output_type": "display_data",
          "data": {
            "image/png": "[encoded data removed]",
            "text/plain": [
              "<Figure size 432x288 with 1 Axes>"
            ]
          },
          "metadata": {
            "tags": [],
            "needs_background": "light"
          }
        }
      ]
    },
    {
      "cell_type": "markdown",
      "metadata": {
        "id": "WyVLGBApUdPA"
      },
      "source": [
        "**PREDICTION FOR NEXT 15 DAYS**\n"
      ]
    },
    {
      "cell_type": "code",
      "metadata": {
        "colab": {
          "base_uri": "https://localhost:8080/"
        },
        "id": "SDqVbk9JH4uo",
        "outputId": "d344ec64-d803-4bfc-f067-99c9dae1dcc6"
      },
      "source": [
        "#Forecasting for next 15 days\n",
        "import datetime\n",
        "date = datetime.datetime(2021,6,24)\n",
        "print(\"Date\",\"\\tPrediction\")\n",
        "for i in range(30): \n",
        "    date += datetime.timedelta(days=1)\n",
        "    print(date.strftime('%d/%m/%Y'),int(model_fit.forecast(30)[0][i])) \n",
        "\n",
        "\n",
        "\n",
        "\n",
        "\n",
        "\n",
        "\n"
      ],
      "execution_count": null,
      "outputs": [
        {
          "output_type": "stream",
          "text": [
            "Date \tPrediction\n",
            "25/06/2021 2443182\n",
            "26/06/2021 2449062\n",
            "27/06/2021 2454493\n",
            "28/06/2021 2459482\n",
            "29/06/2021 2464039\n",
            "30/06/2021 2468175\n",
            "01/07/2021 2471905\n",
            "02/07/2021 2475243\n",
            "03/07/2021 2478200\n",
            "04/07/2021 2480789\n",
            "05/07/2021 2483020\n",
            "06/07/2021 2484905\n",
            "07/07/2021 2486455\n",
            "08/07/2021 2487679\n",
            "09/07/2021 2488588\n",
            "10/07/2021 2489192\n",
            "11/07/2021 2489499\n",
            "12/07/2021 2489520\n",
            "13/07/2021 2489263\n",
            "14/07/2021 2488735\n",
            "15/07/2021 2487947\n",
            "16/07/2021 2486905\n",
            "17/07/2021 2485617\n",
            "18/07/2021 2484090\n",
            "19/07/2021 2482333\n",
            "20/07/2021 2480352\n",
            "21/07/2021 2478153\n",
            "22/07/2021 2475743\n",
            "23/07/2021 2473129\n",
            "24/07/2021 2470317\n"
          ],
          "name": "stdout"
        }
      ]
    },
    {
      "cell_type": "markdown",
      "metadata": {
        "id": "8JVZBRiHVEzk"
      },
      "source": [
        ""
      ]
    }
  ]
}